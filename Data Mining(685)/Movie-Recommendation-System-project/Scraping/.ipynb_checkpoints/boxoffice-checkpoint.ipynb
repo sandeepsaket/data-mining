{
 "cells": [
  {
   "cell_type": "code",
   "execution_count": 17,
   "id": "eaddae19",
   "metadata": {},
   "outputs": [],
   "source": [
    "import re\n",
    "import requests\n",
    "import logging\n",
    "from datetime import datetime\n",
    "\n",
    "import pandas as pd\n",
    "from bs4 import BeautifulSoup\n",
    "from tqdm.auto import trange"
   ]
  },
  {
   "cell_type": "code",
   "execution_count": 18,
   "id": "eaabe8f9",
   "metadata": {},
   "outputs": [],
   "source": [
    "logging.basicConfig(filename='error.log', encoding='utf-8')"
   ]
  },
  {
   "cell_type": "code",
   "execution_count": 19,
   "id": "c6c51db5",
   "metadata": {},
   "outputs": [],
   "source": [
    "url = 'https://www.boxofficeindia.com/movie.php?movieid={}'"
   ]
  },
  {
   "cell_type": "code",
   "execution_count": 20,
   "id": "e4c3023b",
   "metadata": {},
   "outputs": [],
   "source": [
    "def get_table_data(soup, link):\n",
    "    content = soup.find(href=link).parent.find_next_siblings('td')[1].text\n",
    "    return clean_data(content)"
   ]
  },
  {
   "cell_type": "code",
   "execution_count": 21,
   "id": "db9b16a7",
   "metadata": {},
   "outputs": [],
   "source": [
    "def clean_data(data):\n",
    "    if data.startswith('$'):\n",
    "        data = data[1:]\n",
    "    if data in ('---', '--', ''):\n",
    "        return None\n",
    "    return to_int(data)"
   ]
  },
  {
   "cell_type": "code",
   "execution_count": 22,
   "id": "2f8ef6c3",
   "metadata": {},
   "outputs": [],
   "source": [
    "def to_int(string):\n",
    "    return int(string.replace(',', ''))"
   ]
  },
  {
   "cell_type": "code",
   "execution_count": 23,
   "id": "41bb4863",
   "metadata": {},
   "outputs": [],
   "source": [
    "df = pd.DataFrame(columns=['movie_id', 'name', 'release_date', 'total_nett_gross', 'first_week', 'budget', 'india_gross', 'overseas_gross', 'worldwide_gross', 'all_time_rank', 'footfalls', 'adjusted_nett_gross'])"
   ]
  },
  {
   "cell_type": "code",
   "execution_count": 24,
   "id": "1185c66f",
   "metadata": {},
   "outputs": [
    {
     "data": {
      "application/vnd.jupyter.widget-view+json": {
       "model_id": "cf437e258797486f80c4f4d7e47111cb",
       "version_major": 2,
       "version_minor": 0
      },
      "text/plain": [
       "  0%|          | 0/6091 [00:00<?, ?it/s]"
      ]
     },
     "metadata": {},
     "output_type": "display_data"
    }
   ],
   "source": [
    "for movie_id in trange(1, 6092):\n",
    "    try:\n",
    "        page = requests.get(url.format(movie_id))\n",
    "        soup = BeautifulSoup(page.content, \"html.parser\")\n",
    "        if 'Error while fetching worldwide weekend' in soup.body.div.text:\n",
    "            logging.error(f'Movie id {movie_id}\\'s page not found.')\n",
    "            continue\n",
    "        release_date_string = soup.select('div.movieboxssec:nth-child(2) > span:nth-child(1)')[0].string.strip()\n",
    "        movie_data = {\n",
    "            'movie_id': movie_id,\n",
    "            'name' : soup.select('.bl_tle_mvi > a:nth-child(1)')[0].text,\n",
    "            'first_week' : get_table_data(soup, 'india-first-week.php'),\n",
    "            'budget' : get_table_data(soup, 'budget.php'),\n",
    "            'india_gross' : get_table_data(soup, 'india-total-gross.php'),\n",
    "            'overseas_gross' : get_table_data(soup, 'overseas-total-gross.php'),\n",
    "            'worldwide_gross' : get_table_data(soup, 'worldwide-total-gross.php'),\n",
    "            'all_time_rank' : get_table_data(soup, 'all_time_rank.php?fm=1'),\n",
    "            'footfalls' : get_table_data(soup, 'india-footfalls.php?fm=1'),\n",
    "            'adjusted_nett_gross' : get_table_data(soup, 'india-adjusted-nett-gross.php?fm=1'),\n",
    "            'total_nett_gross' : to_int(soup.find(href='net_box_office.php?fm=1').parent.contents[4]),\n",
    "            'release_date' : datetime.strptime(release_date_string, '%d %b %Y')\n",
    "        }\n",
    "        df = df.append(movie_data, ignore_index=True)\n",
    "    except Exception:\n",
    "        logging.exception(f'Movie id: {movie_id}')\n",
    "        continue"
   ]
  },
  {
   "cell_type": "code",
   "execution_count": 26,
   "id": "baec35df",
   "metadata": {},
   "outputs": [],
   "source": [
    "with open('boxoffice.csv', 'w') as bo:\n",
    "    df.to_csv(bo, index=False)"
   ]
  }
 ],
 "metadata": {
  "kernelspec": {
   "display_name": "Python 3 (ipykernel)",
   "language": "python",
   "name": "python3"
  },
  "language_info": {
   "codemirror_mode": {
    "name": "ipython",
    "version": 3
   },
   "file_extension": ".py",
   "mimetype": "text/x-python",
   "name": "python",
   "nbconvert_exporter": "python",
   "pygments_lexer": "ipython3",
   "version": "3.9.7"
  }
 },
 "nbformat": 4,
 "nbformat_minor": 5
}
