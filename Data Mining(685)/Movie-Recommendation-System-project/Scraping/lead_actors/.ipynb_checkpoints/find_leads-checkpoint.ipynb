{
 "cells": [
  {
   "cell_type": "code",
   "execution_count": 2,
   "id": "b825d307",
   "metadata": {},
   "outputs": [],
   "source": [
    "import pandas as pd\n",
    "from fuzzywuzzy import fuzz\n",
    "from fuzzywuzzy import process"
   ]
  },
  {
   "cell_type": "code",
   "execution_count": 3,
   "id": "ae8d5866",
   "metadata": {},
   "outputs": [],
   "source": [
    "imdb_movies = pd.read_csv('IMDb movies.csv', low_memory=False, index_col='imdb_title_id')"
   ]
  },
  {
   "cell_type": "code",
   "execution_count": 4,
   "id": "ebfdd621",
   "metadata": {},
   "outputs": [],
   "source": [
    "bollywood_movies = imdb_movies.groupby(['country', 'language']).get_group(('India', 'Hindi'))"
   ]
  },
  {
   "cell_type": "code",
   "execution_count": 5,
   "id": "c7edd75f",
   "metadata": {},
   "outputs": [],
   "source": [
    "bollywood_full = pd.read_csv('bollywood_full_1950-2019.csv', index_col='imdb_id')\n",
    "bollywood_full = bollywood_full[~bollywood_full.index.duplicated(keep='first')]"
   ]
  },
  {
   "cell_type": "code",
   "execution_count": 6,
   "id": "0318d1d8",
   "metadata": {},
   "outputs": [],
   "source": [
    "bollywood_actors = bollywood_full[['actors']]"
   ]
  },
  {
   "cell_type": "code",
   "execution_count": 11,
   "id": "eba08e32",
   "metadata": {},
   "outputs": [],
   "source": [
    "lead_actors_new = pd.read_csv('lead_actors.csv', index_col=0)"
   ]
  },
  {
   "cell_type": "code",
   "execution_count": 14,
   "id": "f8c4c591",
   "metadata": {},
   "outputs": [],
   "source": [
    "lead_actors_new['actors'] = lead_actors_new.apply(lambda x: [x[0], x[1], x[2]], axis=1)"
   ]
  },
  {
   "cell_type": "code",
   "execution_count": 24,
   "id": "dcce4513",
   "metadata": {},
   "outputs": [
    {
     "data": {
      "text/plain": [
       "['Sanjay Mishra', 'Rishi Bhutani', 'Virendra Singh']"
      ]
     },
     "execution_count": 24,
     "metadata": {},
     "output_type": "execute_result"
    }
   ],
   "source": [
    "lead_actors_new['actors'].loc['tt4677434']"
   ]
  },
  {
   "cell_type": "code",
   "execution_count": 7,
   "id": "bff9b2bd",
   "metadata": {},
   "outputs": [],
   "source": [
    "lead_actors = bollywood_actors['actors'].apply(lambda x: x.split('|')[:3] if isinstance(x, str) else '')"
   ]
  },
  {
   "cell_type": "code",
   "execution_count": 27,
   "id": "e415161a",
   "metadata": {},
   "outputs": [],
   "source": [
    "boxoffice_actors_ori = pd.read_csv('boxoffice_actors.csv')\n",
    "boxoffice_actors = boxoffice_actors_ori.loc[boxoffice_actors_ori['role'] == 'Actor'].copy()"
   ]
  },
  {
   "cell_type": "code",
   "execution_count": 28,
   "id": "13c30f88",
   "metadata": {},
   "outputs": [],
   "source": [
    "for imdb_id in lead_actors_new.index:\n",
    "    boxoffice_movie_actors = boxoffice_actors.loc[(boxoffice_actors['imdb_id'] == imdb_id)]\n",
    "    if boxoffice_movie_actors.empty:\n",
    "        continue\n",
    "    \n",
    "    lead_movie_actors = lead_actors_new['actors'].loc[imdb_id]\n",
    "    if not lead_movie_actors:\n",
    "        continue\n",
    "        \n",
    "    actors_dict = boxoffice_movie_actors['actor_name'].to_dict()\n",
    "    for actor in lead_movie_actors:\n",
    "        if not actor:\n",
    "            continue\n",
    "        match = process.extractOne(actor, actors_dict)\n",
    "        if match[1] > 85:\n",
    "            boxoffice_actors_ori.loc[match[2], 'role'] = 'Lead Actor'"
   ]
  },
  {
   "cell_type": "code",
   "execution_count": 30,
   "id": "e2221991",
   "metadata": {},
   "outputs": [],
   "source": [
    "with open('boxoffice_actors_lead.csv', 'w') as bal:\n",
    "    boxoffice_actors_ori.to_csv(bal, index=False)"
   ]
  }
 ],
 "metadata": {
  "kernelspec": {
   "display_name": "Python 3 (ipykernel)",
   "language": "python",
   "name": "python3"
  },
  "language_info": {
   "codemirror_mode": {
    "name": "ipython",
    "version": 3
   },
   "file_extension": ".py",
   "mimetype": "text/x-python",
   "name": "python",
   "nbconvert_exporter": "python",
   "pygments_lexer": "ipython3",
   "version": "3.9.7"
  }
 },
 "nbformat": 4,
 "nbformat_minor": 5
}
