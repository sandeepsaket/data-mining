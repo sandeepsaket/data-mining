{
 "cells": [
  {
   "cell_type": "code",
   "execution_count": 34,
   "id": "92e36ee6",
   "metadata": {},
   "outputs": [],
   "source": [
    "import re\n",
    "\n",
    "import pandas as pd\n",
    "from fuzzywuzzy import fuzz\n",
    "from fuzzywuzzy import process"
   ]
  },
  {
   "cell_type": "code",
   "execution_count": 108,
   "id": "cbe09fc9",
   "metadata": {},
   "outputs": [],
   "source": [
    "imdb = pd.read_csv('bollywood_full_1950-2019.csv', index_col='imdb_id')"
   ]
  },
  {
   "cell_type": "code",
   "execution_count": 109,
   "id": "1ab35e82",
   "metadata": {},
   "outputs": [],
   "source": [
    "imdb = imdb.loc[imdb['year_of_release'] != '\\\\N']\n",
    "imdb['year_of_release'] = imdb['year_of_release'].astype(int)\n",
    "pattern = re.compile(r' ?\\(.*\\)')\n",
    "imdb['title_x'] = imdb['title_x'].apply(lambda x: pattern.sub('', x))\n",
    "# imdb = imdb[['original_title', 'year_of_release']]"
   ]
  },
  {
   "cell_type": "code",
   "execution_count": 110,
   "id": "74bab971",
   "metadata": {},
   "outputs": [],
   "source": [
    "imdb_titles = imdb[['title_x', 'title_y', 'original_title', 'year_of_release']]"
   ]
  },
  {
   "cell_type": "code",
   "execution_count": 111,
   "id": "f676bedd",
   "metadata": {},
   "outputs": [],
   "source": [
    "boxoffice_ori = pd.read_csv('boxoffice.csv', index_col='movie_id')"
   ]
  },
  {
   "cell_type": "code",
   "execution_count": 112,
   "id": "e5c4b1e0",
   "metadata": {},
   "outputs": [],
   "source": [
    "boxoffice = boxoffice_ori[['name', 'release_date']].copy()"
   ]
  },
  {
   "cell_type": "code",
   "execution_count": 113,
   "id": "03c3d05c",
   "metadata": {},
   "outputs": [],
   "source": [
    "boxoffice['release_date'] = pd.to_datetime(boxoffice['release_date'])"
   ]
  },
  {
   "cell_type": "code",
   "execution_count": 114,
   "id": "a64eaf28",
   "metadata": {},
   "outputs": [],
   "source": [
    "boxoffice['release_year'] = boxoffice['release_date'].apply(lambda x: x.year)"
   ]
  },
  {
   "cell_type": "code",
   "execution_count": 115,
   "id": "281cf33e",
   "metadata": {},
   "outputs": [],
   "source": [
    "imdb_ex = pd.read_csv('IMDb movies.csv', low_memory=False)\n",
    "\n",
    "bollywood_imdb = imdb_ex.groupby(['country', 'language']).get_group(('India', 'Hindi'))\n",
    "\n",
    "bollywood_imdb = bollywood_imdb.rename(columns={'imdb_title_id': 'imdb_id', 'title': 'title_x', 'year': 'year_of_release'})\n",
    "\n",
    "new_movies_ids = list(set(bollywood_imdb['imdb_id']) - set(imdb.index))\n",
    "\n",
    "bollywood_imdb = bollywood_imdb.set_index('imdb_id')\n",
    "\n",
    "bollywood_imdb['title_y'] = bollywood_imdb['title_x']\n",
    "\n",
    "bollywood_imdb = bollywood_imdb[['title_x', 'title_y', 'original_title', 'year_of_release']]\n",
    "\n",
    "new_movies = bollywood_imdb.loc[new_movies_ids]\n",
    "new_movies['year_of_release'] = new_movies['year_of_release'].astype(int)"
   ]
  },
  {
   "cell_type": "code",
   "execution_count": 116,
   "id": "2dd76b88",
   "metadata": {},
   "outputs": [],
   "source": [
    "imdb_titles = pd.concat([imdb_titles, new_movies])"
   ]
  },
  {
   "cell_type": "code",
   "execution_count": 117,
   "id": "2b846036",
   "metadata": {},
   "outputs": [],
   "source": [
    "imdb_group = imdb_titles.groupby('year_of_release')\n",
    "boxoffice_group = boxoffice.groupby('release_year')"
   ]
  },
  {
   "cell_type": "code",
   "execution_count": 118,
   "id": "175604c3",
   "metadata": {},
   "outputs": [],
   "source": [
    "bo_to_i = {}\n",
    "for year, group in boxoffice_group:\n",
    "    if year > 2019:\n",
    "        bo_to_i.update(dict.fromkeys(group.index, ''))\n",
    "        continue\n",
    "    imdb_movies_list = []\n",
    "    if year > 1950:\n",
    "        imdb_movies_list.append(imdb_group.get_group(year - 1))\n",
    "    imdb_movies_list.append(imdb_group.get_group(year))\n",
    "    if year < 2019:\n",
    "        imdb_movies_list.append(imdb_group.get_group(year + 1))\n",
    "    imdb_movies = pd.concat(imdb_movies_list)\n",
    "    movies_dict = imdb_movies.to_dict()\n",
    "    titles = (movies_dict['title_x'], movies_dict['title_y'], movies_dict['original_title'])\n",
    "    matches = []\n",
    "    for t in titles:\n",
    "        matches.append(group['name'].apply(lambda x: process.extractOne(x, t)))\n",
    "    for key in matches[0].keys():\n",
    "        for m in matches:     \n",
    "            if m[key][1] > 90:\n",
    "                bo_to_i[key] = m[key][2]\n",
    "                break\n",
    "        else:\n",
    "            bo_to_i[key] = ''"
   ]
  },
  {
   "cell_type": "code",
   "execution_count": 128,
   "id": "d68357f6",
   "metadata": {},
   "outputs": [],
   "source": [
    "hindi_movies = pd.read_csv('hindi_movies.csv', index_col='imdb_id')"
   ]
  },
  {
   "cell_type": "code",
   "execution_count": 129,
   "id": "bccf68d6",
   "metadata": {},
   "outputs": [],
   "source": [
    "hindi_movies_group = hindi_movies.groupby('year_of_release')"
   ]
  },
  {
   "cell_type": "code",
   "execution_count": 130,
   "id": "2ed20423",
   "metadata": {},
   "outputs": [],
   "source": [
    "b_to_i = {}\n",
    "for year, group in boxoffice_group:\n",
    "    imdb_movies_list = []\n",
    "    if year > 1930:\n",
    "        imdb_movies_list.append(hindi_movies_group.get_group(year - 1))\n",
    "    imdb_movies_list.append(hindi_movies_group.get_group(year))\n",
    "    if year < 2022:\n",
    "        imdb_movies_list.append(hindi_movies_group.get_group(year + 1))\n",
    "    imdb_movies = pd.concat(imdb_movies_list)\n",
    "    titles = imdb_movies.to_dict()['title']\n",
    "    match = group['name'].apply(lambda x: process.extractOne(x, titles))\n",
    "    for key, item in match.items():    \n",
    "        if item[1] > 90:\n",
    "            b_to_i[key] = item[2]\n",
    "        else:\n",
    "            b_to_i[key] = ''"
   ]
  },
  {
   "cell_type": "code",
   "execution_count": 139,
   "id": "f50ae946",
   "metadata": {},
   "outputs": [],
   "source": [
    "for key in bo_to_i.keys():\n",
    "    if not bo_to_i[key] and b_to_i[key]:\n",
    "        bo_to_i[key] = b_to_i[key]"
   ]
  },
  {
   "cell_type": "code",
   "execution_count": 141,
   "id": "8a44f4fa",
   "metadata": {},
   "outputs": [],
   "source": [
    "boxoffice_ori['imdb_id'] = pd.Series(bo_to_i)"
   ]
  },
  {
   "cell_type": "code",
   "execution_count": 142,
   "id": "d8fb1339",
   "metadata": {},
   "outputs": [],
   "source": [
    "with open('boxoffice_to_imdb.csv', 'w') as boi:\n",
    "    pd.Series(bo_to_i).to_csv(boi)"
   ]
  },
  {
   "cell_type": "code",
   "execution_count": 147,
   "id": "98f3fabd",
   "metadata": {},
   "outputs": [],
   "source": [
    "with open('boxoffice_imdb.csv', 'w') as bo:\n",
    "    boxoffice_ori.to_csv(bo)"
   ]
  }
 ],
 "metadata": {
  "kernelspec": {
   "display_name": "Python 3 (ipykernel)",
   "language": "python",
   "name": "python3"
  },
  "language_info": {
   "codemirror_mode": {
    "name": "ipython",
    "version": 3
   },
   "file_extension": ".py",
   "mimetype": "text/x-python",
   "name": "python",
   "nbconvert_exporter": "python",
   "pygments_lexer": "ipython3",
   "version": "3.9.7"
  }
 },
 "nbformat": 4,
 "nbformat_minor": 5
}
