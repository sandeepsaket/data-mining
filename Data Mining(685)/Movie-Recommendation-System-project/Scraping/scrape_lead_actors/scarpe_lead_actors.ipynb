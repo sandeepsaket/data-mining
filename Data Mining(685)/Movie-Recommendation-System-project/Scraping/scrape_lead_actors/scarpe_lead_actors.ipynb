{
 "cells": [
  {
   "cell_type": "code",
   "execution_count": 75,
   "id": "e14333e5",
   "metadata": {},
   "outputs": [],
   "source": [
    "import requests\n",
    "import logging\n",
    "\n",
    "import pandas as pd\n",
    "from bs4 import BeautifulSoup\n",
    "from tqdm.auto import tqdm"
   ]
  },
  {
   "cell_type": "code",
   "execution_count": 77,
   "id": "3acc6c0c",
   "metadata": {},
   "outputs": [],
   "source": [
    "logging.basicConfig(filename='error.log', encoding='utf-8', force=True)"
   ]
  },
  {
   "cell_type": "code",
   "execution_count": 68,
   "id": "d6df2e5a",
   "metadata": {},
   "outputs": [],
   "source": [
    "imdb = pd.read_csv('boxoffice_to_imdb.csv', names=['mid', 'imdb_id'], skiprows=1)"
   ]
  },
  {
   "cell_type": "code",
   "execution_count": 69,
   "id": "08f5f40f",
   "metadata": {},
   "outputs": [],
   "source": [
    "imdb_ids = imdb['imdb_id'].dropna()"
   ]
  },
  {
   "cell_type": "code",
   "execution_count": 73,
   "id": "0a3b884d",
   "metadata": {},
   "outputs": [],
   "source": [
    "new_ids = list((set(imdb_ids) - set(lead_actors_bak.keys())))"
   ]
  },
  {
   "cell_type": "code",
   "execution_count": 44,
   "id": "0973343e",
   "metadata": {},
   "outputs": [],
   "source": [
    "url = 'https://www.imdb.com/title/{}/'"
   ]
  },
  {
   "cell_type": "code",
   "execution_count": 78,
   "id": "fd726342",
   "metadata": {},
   "outputs": [
    {
     "data": {
      "application/vnd.jupyter.widget-view+json": {
       "model_id": "b0d2872497ff4457952d2d65cac38b65",
       "version_major": 2,
       "version_minor": 0
      },
      "text/plain": [
       "  0%|          | 0/1234 [00:00<?, ?it/s]"
      ]
     },
     "metadata": {},
     "output_type": "display_data"
    }
   ],
   "source": [
    "lead_actors = {}\n",
    "for imdb_id in tqdm(new_ids):\n",
    "    try:\n",
    "        page = requests.get(url.format(imdb_id))\n",
    "        soup = BeautifulSoup(page.content, 'html.parser')\n",
    "        actors_a = soup.find(href=f'/title/{imdb_id}/fullcredits/cast?ref_=tt_ov_st_sm').parent.div.ul.find_all('a')\n",
    "        actors = [actor.text for actor in actors_a]\n",
    "        lead_actors[imdb_id] = actors\n",
    "    except Exception:\n",
    "        logging.exception(f'IMDb id: {imdb_id}')"
   ]
  },
  {
   "cell_type": "code",
   "execution_count": 64,
   "id": "89eb3a16",
   "metadata": {},
   "outputs": [],
   "source": [
    "lead_actors_bak = lead_actors.copy()"
   ]
  },
  {
   "cell_type": "code",
   "execution_count": 81,
   "id": "1dc92fd8",
   "metadata": {},
   "outputs": [],
   "source": [
    "lead_actors.update(lead_actors_bak)"
   ]
  },
  {
   "cell_type": "code",
   "execution_count": 87,
   "id": "8237f76c",
   "metadata": {},
   "outputs": [],
   "source": [
    "df = pd.DataFrame(lead_actors).T"
   ]
  },
  {
   "cell_type": "code",
   "execution_count": 89,
   "id": "63ac9393",
   "metadata": {},
   "outputs": [],
   "source": [
    "with open('lead_actors.csv', 'w') as la:\n",
    "    df.to_csv(la)"
   ]
  }
 ],
 "metadata": {
  "kernelspec": {
   "display_name": "Python 3 (ipykernel)",
   "language": "python",
   "name": "python3"
  },
  "language_info": {
   "codemirror_mode": {
    "name": "ipython",
    "version": 3
   },
   "file_extension": ".py",
   "mimetype": "text/x-python",
   "name": "python",
   "nbconvert_exporter": "python",
   "pygments_lexer": "ipython3",
   "version": "3.9.7"
  }
 },
 "nbformat": 4,
 "nbformat_minor": 5
}
