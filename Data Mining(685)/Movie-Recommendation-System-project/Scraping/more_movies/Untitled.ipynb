{
 "cells": [
  {
   "cell_type": "code",
   "execution_count": 1,
   "id": "2c8c0a63",
   "metadata": {},
   "outputs": [],
   "source": [
    "import pandas as pd\n",
    "import re"
   ]
  },
  {
   "cell_type": "code",
   "execution_count": 46,
   "id": "4ccb4e15",
   "metadata": {},
   "outputs": [],
   "source": [
    "bollywood_full = pd.read_csv('bollywood_full_1950-2019.csv')"
   ]
  },
  {
   "cell_type": "code",
   "execution_count": 2,
   "id": "d7e4e13b",
   "metadata": {},
   "outputs": [],
   "source": [
    "indian_movies = pd.read_csv('indian_movies.csv')"
   ]
  },
  {
   "cell_type": "code",
   "execution_count": 3,
   "id": "4b5d68b4",
   "metadata": {},
   "outputs": [],
   "source": [
    "hindi_movies = indian_movies.groupby('Language').get_group('hindi')"
   ]
  },
  {
   "cell_type": "code",
   "execution_count": 8,
   "id": "f7d98b69",
   "metadata": {},
   "outputs": [],
   "source": [
    "hindi_movies = hindi_movies.rename(columns={'ID': 'imdb_id', 'Movie Name': 'title', 'Year': 'year', 'Rating(10)': 'rating', 'Votes': 'votes'})"
   ]
  },
  {
   "cell_type": "code",
   "execution_count": 9,
   "id": "b101debf",
   "metadata": {},
   "outputs": [],
   "source": [
    "hindi_movies = hindi_movies[['imdb_id', 'title', 'year', 'rating', 'votes']]"
   ]
  },
  {
   "cell_type": "code",
   "execution_count": 12,
   "id": "2ee93f1a",
   "metadata": {},
   "outputs": [],
   "source": [
    "with open('bollywood_movies.csv', 'w') as bm:\n",
    "    hindi_movies.to_csv(bm, index=False)"
   ]
  },
  {
   "cell_type": "code",
   "execution_count": 50,
   "id": "840f2d4a",
   "metadata": {},
   "outputs": [],
   "source": [
    "hindi_movies = hindi_movies[['imdb_id', 'title', 'year_of_release']]"
   ]
  },
  {
   "cell_type": "code",
   "execution_count": 51,
   "id": "ca9f1bb9",
   "metadata": {},
   "outputs": [],
   "source": [
    "unseen_ids = list(set(hindi_movies['imdb_id']) - set(bollywood_full['imdb_id']))"
   ]
  },
  {
   "cell_type": "code",
   "execution_count": 52,
   "id": "21feee43",
   "metadata": {},
   "outputs": [],
   "source": [
    "hindi_movies = hindi_movies.set_index('imdb_id')"
   ]
  },
  {
   "cell_type": "code",
   "execution_count": 53,
   "id": "e0804386",
   "metadata": {},
   "outputs": [],
   "source": [
    "hindi_movies = hindi_movies.loc[unseen_ids]"
   ]
  },
  {
   "cell_type": "code",
   "execution_count": 54,
   "id": "6b240632",
   "metadata": {},
   "outputs": [],
   "source": [
    "pattern = re.compile(r'(\\d{4})')"
   ]
  },
  {
   "cell_type": "code",
   "execution_count": 55,
   "id": "c1b0df02",
   "metadata": {},
   "outputs": [],
   "source": [
    "def clean_year(year):\n",
    "    m = pattern.search(str(year))\n",
    "    if not m:\n",
    "        return ''\n",
    "    \n",
    "    return m.group()"
   ]
  },
  {
   "cell_type": "code",
   "execution_count": 56,
   "id": "f8bd4838",
   "metadata": {},
   "outputs": [],
   "source": [
    "hindi_movies['year_of_release'] = hindi_movies['year_of_release'].apply(clean_year)"
   ]
  },
  {
   "cell_type": "code",
   "execution_count": 57,
   "id": "944c29c7",
   "metadata": {},
   "outputs": [],
   "source": [
    "hindi_movies = hindi_movies.loc[hindi_movies['year_of_release'] != ''].copy()"
   ]
  },
  {
   "cell_type": "code",
   "execution_count": 58,
   "id": "a9054d05",
   "metadata": {},
   "outputs": [],
   "source": [
    "hindi_movies['year_of_release'] = hindi_movies['year_of_release'].astype(int)"
   ]
  },
  {
   "cell_type": "code",
   "execution_count": 59,
   "id": "ab2cca80",
   "metadata": {},
   "outputs": [],
   "source": [
    "with open('hindi_movies.csv', 'w') as hm:\n",
    "    hindi_movies.to_csv(hm)"
   ]
  }
 ],
 "metadata": {
  "kernelspec": {
   "display_name": "Python 3 (ipykernel)",
   "language": "python",
   "name": "python3"
  },
  "language_info": {
   "codemirror_mode": {
    "name": "ipython",
    "version": 3
   },
   "file_extension": ".py",
   "mimetype": "text/x-python",
   "name": "python",
   "nbconvert_exporter": "python",
   "pygments_lexer": "ipython3",
   "version": "3.9.7"
  }
 },
 "nbformat": 4,
 "nbformat_minor": 5
}
