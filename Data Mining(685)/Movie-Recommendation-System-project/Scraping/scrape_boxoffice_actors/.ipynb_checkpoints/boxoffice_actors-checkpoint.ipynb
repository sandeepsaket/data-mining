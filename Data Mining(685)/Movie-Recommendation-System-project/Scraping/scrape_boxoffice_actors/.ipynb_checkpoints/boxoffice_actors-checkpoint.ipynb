{
 "cells": [
  {
   "cell_type": "code",
   "execution_count": null,
   "id": "a4e25798",
   "metadata": {},
   "outputs": [],
   "source": [
    "import logging\n",
    "import requests\n",
    "\n",
    "import pandas as pd\n",
    "from bs4 import BeautifulSoup\n",
    "from tqdm.auto import trange"
   ]
  },
  {
   "cell_type": "code",
   "execution_count": null,
   "id": "066f6c7b",
   "metadata": {},
   "outputs": [],
   "source": [
    "logging.basicConfig(filename='error.log', encoding='utf-8')"
   ]
  },
  {
   "cell_type": "code",
   "execution_count": null,
   "id": "edf27e3f",
   "metadata": {},
   "outputs": [],
   "source": [
    "url = 'https://www.boxofficeindia.com/actor.php?actorid={}'\n",
    "url_role = 'https://www.boxofficeindia.com/actor.php?actorid={}&role={}'"
   ]
  },
  {
   "cell_type": "code",
   "execution_count": null,
   "id": "ba3bfa84",
   "metadata": {},
   "outputs": [],
   "source": [
    "ACTOR_ROLE_ID = 24\n",
    "DIR_ROLE_ID = 25\n",
    "PROD_ROLE_ID = 26"
   ]
  },
  {
   "cell_type": "code",
   "execution_count": null,
   "id": "54d30e17",
   "metadata": {},
   "outputs": [],
   "source": [
    "def to_int(string):\n",
    "    if string in ('---', '--', ''):\n",
    "        return None\n",
    "    return int(string.replace(',', ''))"
   ]
  },
  {
   "cell_type": "code",
   "execution_count": null,
   "id": "39344b26",
   "metadata": {},
   "outputs": [],
   "source": [
    "def get_films(actor_id, actor_name, role, soup):\n",
    "    table = soup.select('#yeartopim4')[0].table\n",
    "    if not table:\n",
    "        return None\n",
    "    rows = table.find_all('tr', class_='grayrow boi-listing-rows', recursive=False)\n",
    "    if not rows:\n",
    "        return None\n",
    "    films = []\n",
    "    i = 0\n",
    "    for row in rows:\n",
    "        i += 1\n",
    "        first_col = row.table.tr.find_all('td')[1]\n",
    "        name = first_col.text\n",
    "        movie_id = int(first_col.a['href'].split('=')[1])\n",
    "        cols = row.find_all('td')\n",
    "        gross = to_int(cols[-2].text)\n",
    "        verdict = cols[-1].text\n",
    "        films.append([actor_id, actor_name, role, movie_id, name, gross, verdict]) \n",
    "    return films"
   ]
  },
  {
   "cell_type": "code",
   "execution_count": null,
   "id": "9592af4f",
   "metadata": {},
   "outputs": [],
   "source": [
    "actors_data = []\n",
    "for actor_id in trange(1, 10):\n",
    "    try:\n",
    "        page = requests.get(url.format(actor_id))\n",
    "        if not page.content:\n",
    "            continue\n",
    "        films = []\n",
    "        soup = BeautifulSoup(page.content, 'html.parser')\n",
    "        actor_name = soup.select('.centertext')[0].text\n",
    "        roles = {r.text for r in soup.find(class_='movieboxssec').find_all('a')}\n",
    "        if 'Actor' in roles:\n",
    "            page = requests.get(url_role.format(actor_id, ACTOR_ROLE_ID))\n",
    "            soup = BeautifulSoup(page.content, 'html.parser')\n",
    "            films.extend(get_films(actor_id, actor_name, 'Actor', soup))\n",
    "        if 'Producer' in roles:\n",
    "            page = requests.get(url_role.format(actor_id, PROD_ROLE_ID))\n",
    "            soup = BeautifulSoup(page.content, 'html.parser')\n",
    "            films.extend(get_films(actor_id, actor_name, 'Producer', soup))\n",
    "        if 'Director' in roles:\n",
    "            page = requests.get(url_role.format(actor_id, DIR_ROLE_ID))\n",
    "            soup = BeautifulSoup(page.content, 'html.parser')\n",
    "            films.extend(get_films(actor_id, actor_name, 'Director', soup))\n",
    "\n",
    "        if films:\n",
    "            actors_data.extend(films)\n",
    "    except Exception:\n",
    "        logging.execption(f'Actor id: {actor_id}')"
   ]
  },
  {
   "cell_type": "code",
   "execution_count": null,
   "id": "8c3ea7ad",
   "metadata": {},
   "outputs": [],
   "source": [
    "df = pd.DataFrame(actors_data, columns=['actor_id', 'actor_name', 'role', 'movie_id', 'movie_name', 'nett_gross', 'verdict'])"
   ]
  },
  {
   "cell_type": "code",
   "execution_count": null,
   "id": "5c523195",
   "metadata": {},
   "outputs": [],
   "source": [
    "with open('boxoffice_actors.csv', 'w') as boa:\n",
    "    df.to_csv(boa, index=False)"
   ]
  }
 ],
 "metadata": {
  "kernelspec": {
   "display_name": "Python 3 (ipykernel)",
   "language": "python",
   "name": "python3"
  },
  "language_info": {
   "codemirror_mode": {
    "name": "ipython",
    "version": 3
   },
   "file_extension": ".py",
   "mimetype": "text/x-python",
   "name": "python",
   "nbconvert_exporter": "python",
   "pygments_lexer": "ipython3",
   "version": "3.9.7"
  }
 },
 "nbformat": 4,
 "nbformat_minor": 5
}
