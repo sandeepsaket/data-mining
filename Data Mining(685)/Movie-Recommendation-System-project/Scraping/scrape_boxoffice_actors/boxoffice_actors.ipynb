{
 "cells": [
  {
   "cell_type": "code",
   "execution_count": 67,
   "id": "a4e25798",
   "metadata": {},
   "outputs": [],
   "source": [
    "import logging\n",
    "import requests\n",
    "\n",
    "import pandas as pd\n",
    "from bs4 import BeautifulSoup\n",
    "from tqdm.auto import trange"
   ]
  },
  {
   "cell_type": "code",
   "execution_count": 68,
   "id": "066f6c7b",
   "metadata": {},
   "outputs": [],
   "source": [
    "logging.basicConfig(filename='error.log', encoding='utf-8')"
   ]
  },
  {
   "cell_type": "code",
   "execution_count": 69,
   "id": "edf27e3f",
   "metadata": {},
   "outputs": [],
   "source": [
    "url = 'https://www.boxofficeindia.com/actor.php?actorid={}'\n",
    "url_role = 'https://www.boxofficeindia.com/actor.php?actorid={}&role={}'"
   ]
  },
  {
   "cell_type": "code",
   "execution_count": 70,
   "id": "ba3bfa84",
   "metadata": {},
   "outputs": [],
   "source": [
    "ACTOR_ROLE_ID = 24\n",
    "DIR_ROLE_ID = 25\n",
    "PROD_ROLE_ID = 26"
   ]
  },
  {
   "cell_type": "code",
   "execution_count": 71,
   "id": "54d30e17",
   "metadata": {},
   "outputs": [],
   "source": [
    "def to_int(string):\n",
    "    if string in ('---', '--', ''):\n",
    "        return None\n",
    "    return int(string.replace(',', ''))"
   ]
  },
  {
   "cell_type": "code",
   "execution_count": 72,
   "id": "39344b26",
   "metadata": {},
   "outputs": [],
   "source": [
    "def get_films(actor_id, actor_name, role, soup):\n",
    "    table = soup.select('#yeartopim4')[0].table\n",
    "    if not table:\n",
    "        return []\n",
    "    rows = table.find_all('tr', class_='grayrow boi-listing-rows', recursive=False)\n",
    "    if not rows:\n",
    "        return []\n",
    "    films = []\n",
    "    i = 0\n",
    "    for row in rows:\n",
    "        i += 1\n",
    "        first_col = row.table.tr.find_all('td')[1]\n",
    "        name = first_col.text\n",
    "        movie_id = int(first_col.a['href'].split('=')[1])\n",
    "        cols = row.find_all('td')\n",
    "        gross = to_int(cols[-2].text)\n",
    "        verdict = cols[-1].text\n",
    "        films.append([actor_id, actor_name, role, movie_id, name, gross, verdict]) \n",
    "    return films"
   ]
  },
  {
   "cell_type": "code",
   "execution_count": 73,
   "id": "9592af4f",
   "metadata": {},
   "outputs": [
    {
     "data": {
      "application/vnd.jupyter.widget-view+json": {
       "model_id": "ada36d250e5f4ea5915ea286ee26b1da",
       "version_major": 2,
       "version_minor": 0
      },
      "text/plain": [
       "  0%|          | 0/18999 [00:00<?, ?it/s]"
      ]
     },
     "metadata": {},
     "output_type": "display_data"
    }
   ],
   "source": [
    "actors_data = []\n",
    "for actor_id in trange(1, 19000):\n",
    "    try:\n",
    "        page = requests.get(url.format(actor_id))\n",
    "        if not page.content:\n",
    "            continue\n",
    "        films = []\n",
    "        soup = BeautifulSoup(page.content, 'html.parser')\n",
    "        actor_name = soup.select('.centertext')[0].text\n",
    "        roles = {r.text for r in soup.find(class_='movieboxssec').find_all('a')}\n",
    "        current_role = soup.find(class_='movieboxssec').find('a', \n",
    "                        attrs={'style':'color: #FFFFFF; background-color: #cc3333; padding: 2px 6px; border-radius: 5px;'}).text\n",
    "        ori_soup = soup\n",
    "        if 'Actor' in roles:\n",
    "            if current_role != 'Actor':\n",
    "                page = requests.get(url_role.format(actor_id, ACTOR_ROLE_ID))\n",
    "                soup = BeautifulSoup(page.content, 'html.parser')\n",
    "            films.extend(get_films(actor_id, actor_name, 'Actor', soup))\n",
    "            soup = ori_soup\n",
    "        if 'Producer' in roles:\n",
    "            if current_role != 'Producer':\n",
    "                page = requests.get(url_role.format(actor_id, PROD_ROLE_ID))\n",
    "                soup = BeautifulSoup(page.content, 'html.parser')\n",
    "            films.extend(get_films(actor_id, actor_name, 'Producer', soup))\n",
    "            soup = ori_soup\n",
    "        if 'Director' in roles:\n",
    "            if current_role != 'Director':\n",
    "                page = requests.get(url_role.format(actor_id, DIR_ROLE_ID))\n",
    "                soup = BeautifulSoup(page.content, 'html.parser')\n",
    "            films.extend(get_films(actor_id, actor_name, 'Director', soup))\n",
    "            soup = ori_soup\n",
    "\n",
    "        if films:\n",
    "            actors_data.extend(films)\n",
    "        if actor_id % 1000 == 0:\n",
    "            df = pd.DataFrame(actors_data, columns=['actor_id', 'actor_name', 'role', 'movie_id', 'movie_name', 'nett_gross', 'verdict'])\n",
    "            with open('boxoffice_actors.csv', 'w') as boa:\n",
    "                df.to_csv(boa, index=False)\n",
    "    except Exception:\n",
    "        logging.exception(f'Actor id: {actor_id}')"
   ]
  },
  {
   "cell_type": "code",
   "execution_count": 74,
   "id": "8c3ea7ad",
   "metadata": {},
   "outputs": [],
   "source": [
    "df = pd.DataFrame(actors_data, columns=['actor_id', 'actor_name', 'role', 'movie_id', 'movie_name', 'nett_gross', 'verdict'])"
   ]
  },
  {
   "cell_type": "code",
   "execution_count": 99,
   "id": "9ac00d10",
   "metadata": {},
   "outputs": [],
   "source": [
    "imdb_ids = pd.read_csv('boxoffice_to_imdb.csv', names=['movie_id', 'imdb_id'], skiprows=1, index_col='movie_id')"
   ]
  },
  {
   "cell_type": "code",
   "execution_count": 116,
   "id": "d55df6c6",
   "metadata": {},
   "outputs": [],
   "source": [
    "df['imdb_id'] = df['movie_id'].apply(lambda x: imdb_ids['imdb_id'].get(x, ''))"
   ]
  },
  {
   "cell_type": "code",
   "execution_count": 118,
   "id": "780f6ac5",
   "metadata": {},
   "outputs": [],
   "source": [
    "df = df[['actor_id', 'actor_name', 'role', 'movie_id', 'imdb_id', 'movie_name', 'nett_gross', 'verdict']]"
   ]
  },
  {
   "cell_type": "code",
   "execution_count": 121,
   "id": "5c523195",
   "metadata": {},
   "outputs": [],
   "source": [
    "with open('boxoffice_actors.csv', 'w') as boa:\n",
    "    df.to_csv(boa, index=False)"
   ]
  }
 ],
 "metadata": {
  "kernelspec": {
   "display_name": "Python 3 (ipykernel)",
   "language": "python",
   "name": "python3"
  },
  "language_info": {
   "codemirror_mode": {
    "name": "ipython",
    "version": 3
   },
   "file_extension": ".py",
   "mimetype": "text/x-python",
   "name": "python",
   "nbconvert_exporter": "python",
   "pygments_lexer": "ipython3",
   "version": "3.9.7"
  }
 },
 "nbformat": 4,
 "nbformat_minor": 5
}
