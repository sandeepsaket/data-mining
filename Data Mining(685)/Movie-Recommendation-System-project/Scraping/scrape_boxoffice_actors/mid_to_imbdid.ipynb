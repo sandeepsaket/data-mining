{
 "cells": [
  {
   "cell_type": "code",
   "execution_count": 8,
   "id": "3ccebfa8",
   "metadata": {},
   "outputs": [],
   "source": [
    "import pandas as pd"
   ]
  },
  {
   "cell_type": "code",
   "execution_count": 9,
   "id": "a18e4500",
   "metadata": {},
   "outputs": [],
   "source": [
    "imdb_ids = pd.read_csv('boxoffice_to_imdb.csv', names=['movie_id', 'imdb_id'], skiprows=1, index_col='movie_id')"
   ]
  },
  {
   "cell_type": "code",
   "execution_count": 10,
   "id": "41f5bd3f",
   "metadata": {},
   "outputs": [],
   "source": [
    "df = pd.read_csv('boxoffice_actors.csv')"
   ]
  },
  {
   "cell_type": "code",
   "execution_count": 11,
   "id": "8265452f",
   "metadata": {},
   "outputs": [],
   "source": [
    "df['imdb_id'] = df['movie_id'].apply(lambda x: imdb_ids['imdb_id'].get(x, ''))"
   ]
  },
  {
   "cell_type": "code",
   "execution_count": 12,
   "id": "46c369e8",
   "metadata": {},
   "outputs": [],
   "source": [
    "df = df[['actor_id', 'actor_name', 'role', 'movie_id', 'imdb_id', 'movie_name', 'nett_gross', 'verdict']]"
   ]
  },
  {
   "cell_type": "code",
   "execution_count": 13,
   "id": "a4773dad",
   "metadata": {},
   "outputs": [],
   "source": [
    "with open('boxoffice_actors.csv', 'w') as boa:\n",
    "    df.to_csv(boa, index=False)"
   ]
  }
 ],
 "metadata": {
  "kernelspec": {
   "display_name": "Python 3 (ipykernel)",
   "language": "python",
   "name": "python3"
  },
  "language_info": {
   "codemirror_mode": {
    "name": "ipython",
    "version": 3
   },
   "file_extension": ".py",
   "mimetype": "text/x-python",
   "name": "python",
   "nbconvert_exporter": "python",
   "pygments_lexer": "ipython3",
   "version": "3.9.7"
  }
 },
 "nbformat": 4,
 "nbformat_minor": 5
}
